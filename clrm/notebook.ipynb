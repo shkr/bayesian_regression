{
 "cells": [
  {
   "cell_type": "code",
   "execution_count": 3,
   "metadata": {
    "collapsed": false
   },
   "outputs": [
    {
     "name": "stdout",
     "output_type": "stream",
     "text": [
      "The autoreload extension is already loaded. To reload it, use:\n",
      "  %reload_ext autoreload\n"
     ]
    }
   ],
   "source": [
    "%load_ext autoreload\n",
    "%autoreload 2\n",
    "%matplotlib inline\n",
    "\n",
    "import pymc3 as pm\n",
    "\n",
    "import matplotlib.pyplot as plt\n",
    "import numpy as np\n",
    "import pandas as pd\n",
    "import theano\n",
    "import scipy.stats as stats\n",
    "import scipy\n",
    "import seaborn as sns\n",
    "import pickle\n",
    "sns.set(color_codes=True)\n",
    "\n",
    "from bayesian import CLRM, Result"
   ]
  },
  {
   "cell_type": "code",
   "execution_count": 4,
   "metadata": {
    "collapsed": false,
    "scrolled": false
   },
   "outputs": [],
   "source": [
    "# Set logging\n",
    "import logging\n",
    "\n",
    "logging.basicConfig(level=logging.INFO)\n",
    "logger = logging.getLogger('bayesian_glm')\n",
    "\n",
    "plt.style.use('fivethirtyeight')\n",
    "%matplotlib inline\n",
    "\n",
    "files = [\"data_1_1.csv\", \"data_1_2.csv\", \"data_1_3.csv\", \"data_1_4.csv\", \"data_1_5.csv\"]"
   ]
  },
  {
   "cell_type": "markdown",
   "metadata": {},
   "source": [
    "## Training Data"
   ]
  },
  {
   "cell_type": "code",
   "execution_count": 5,
   "metadata": {
    "collapsed": false
   },
   "outputs": [
    {
     "name": "stderr",
     "output_type": "stream",
     "text": [
      "INFO:CLRM:reading file data_1_1.csv\n",
      "INFO:CLRM:shape of X is (100,)\n",
      "INFO:CLRM:shape of Y is (100,)\n",
      "/Users/shashank/.virtualenvs/vvf/lib/python2.7/site-packages/matplotlib/axes/_axes.py:531: UserWarning: No labelled objects found. Use label='...' kwarg on individual plots.\n",
      "  warnings.warn(\"No labelled objects found. \"\n"
     ]
    },
    {
     "data": {
      "image/png": "[encoded data removed]",
      "text/plain": [
       "<matplotlib.figure.Figure at 0x1094aec10>"
      ]
     },
     "metadata": {},
     "output_type": "display_data"
    }
   ],
   "source": [
    "CLRM(files[0], lambda w, x: w).plot_input_data()"
   ]
  },
  {
   "cell_type": "markdown",
   "metadata": {},
   "source": [
    "## Inference"
   ]
  },
  {
   "cell_type": "markdown",
   "metadata": {},
   "source": [
    "### Homoskedastic"
   ]
  },
  {
   "cell_type": "code",
   "execution_count": 37,
   "metadata": {
    "collapsed": false
   },
   "outputs": [
    {
     "name": "stderr",
     "output_type": "stream",
     "text": [
      "INFO:CLRM:reading file data_1_1.csv\n",
      "INFO:CLRM:shape of X is (100,)\n",
      "INFO:CLRM:shape of Y is (100,)\n",
      "INFO:CLRM:Fitting linear model for filename data_1_1.csv\n"
     ]
    },
    {
     "name": "stdout",
     "output_type": "stream",
     "text": [
      "Optimization terminated successfully.\n",
      "         Current function value: 297.473471\n",
      "         Iterations: 6\n",
      "         Function evaluations: 284\n",
      "('MAP Estimate', {'a': array(1.0372171567210353), 'nu_interval_': array(-1.042206022987242), 'b': array(0.014970736429343), 'w_interval_': array(-3.6578928136572246)})\n"
     ]
    },
    {
     "name": "stderr",
     "output_type": "stream",
     "text": [
      "100%|██████████| 10000/10000 [00:03<00:00, 2654.61it/s]\n",
      "INFO:CLRM:Time taken = 8.68895792961\n",
      "INFO:CLRM:reading file data_1_2.csv\n",
      "INFO:CLRM:shape of X is (100,)\n",
      "INFO:CLRM:shape of Y is (100,)\n",
      "INFO:CLRM:Fitting linear model for filename data_1_2.csv\n"
     ]
    },
    {
     "name": "stdout",
     "output_type": "stream",
     "text": [
      "Optimization terminated successfully.\n",
      "         Current function value: 391.462842\n",
      "         Iterations: 6\n",
      "         Function evaluations: 300\n",
      "('MAP Estimate', {'a': array(1.2417454092760583), 'nu_interval_': array(-1.653476156908777), 'b': array(-0.4634358881199373), 'w_interval_': array(-4.17271092000646)})\n"
     ]
    },
    {
     "name": "stderr",
     "output_type": "stream",
     "text": [
      "100%|██████████| 10000/10000 [00:03<00:00, 2609.41it/s]\n",
      "INFO:CLRM:Time taken = 11.285763979\n",
      "INFO:CLRM:reading file data_1_3.csv\n",
      "INFO:CLRM:shape of X is (50,)\n",
      "INFO:CLRM:shape of Y is (50,)\n",
      "INFO:CLRM:Fitting linear model for filename data_1_3.csv\n"
     ]
    },
    {
     "name": "stdout",
     "output_type": "stream",
     "text": [
      "Optimization terminated successfully.\n",
      "         Current function value: 213.342269\n",
      "         Iterations: 7\n",
      "         Function evaluations: 335\n",
      "('MAP Estimate', {'a': array(-0.6689536366950428), 'nu_interval_': array(-1.4445598278448208), 'b': array(0.02699208689549034), 'w_interval_': array(-4.189642195968285)})\n"
     ]
    },
    {
     "name": "stderr",
     "output_type": "stream",
     "text": [
      "100%|██████████| 10000/10000 [00:03<00:00, 2616.83it/s]\n",
      "INFO:CLRM:Time taken = 8.99207997322\n",
      "INFO:CLRM:reading file data_1_4.csv\n",
      "INFO:CLRM:shape of X is (50,)\n",
      "INFO:CLRM:shape of Y is (50,)\n",
      "INFO:CLRM:Fitting linear model for filename data_1_4.csv\n"
     ]
    },
    {
     "name": "stdout",
     "output_type": "stream",
     "text": [
      "Optimization terminated successfully.\n",
      "         Current function value: 162.740446\n",
      "         Iterations: 8\n",
      "         Function evaluations: 380\n",
      "('MAP Estimate', {'a': array(0.9952969412418115), 'nu_interval_': array(0.131597127532673), 'b': array(0.533700874803425), 'w_interval_': array(-3.956320347676987)})\n"
     ]
    },
    {
     "name": "stderr",
     "output_type": "stream",
     "text": [
      "100%|██████████| 10000/10000 [00:03<00:00, 2968.35it/s]\n",
      "INFO:CLRM:Time taken = 8.14867711067\n",
      "INFO:CLRM:reading file data_1_5.csv\n",
      "INFO:CLRM:shape of X is (50,)\n",
      "INFO:CLRM:shape of Y is (50,)\n",
      "INFO:CLRM:Fitting linear model for filename data_1_5.csv\n"
     ]
    },
    {
     "name": "stdout",
     "output_type": "stream",
     "text": [
      "Optimization terminated successfully.\n",
      "         Current function value: 190.998811\n",
      "         Iterations: 7\n",
      "         Function evaluations: 353\n",
      "('MAP Estimate', {'a': array(-0.9751697962392275), 'nu_interval_': array(-1.342482833871495), 'b': array(-0.2369260511982848), 'w_interval_': array(-3.864962496887643)})\n"
     ]
    },
    {
     "name": "stderr",
     "output_type": "stream",
     "text": [
      "100%|██████████| 10000/10000 [00:03<00:00, 2941.59it/s]\n",
      "INFO:CLRM:Time taken = 8.09004998207\n"
     ]
    }
   ],
   "source": [
    "results_constant = []\n",
    "for f in files:\n",
    "    clrm = CLRM(f, lambda w, x: w)\n",
    "    clrm.fit_linear_model(10000)\n",
    "    results_constant.append(clrm)"
   ]
  },
  {
   "cell_type": "markdown",
   "metadata": {},
   "source": [
    "### Heteroskedastic"
   ]
  },
  {
   "cell_type": "code",
   "execution_count": 38,
   "metadata": {
    "collapsed": false
   },
   "outputs": [
    {
     "name": "stderr",
     "output_type": "stream",
     "text": [
      "INFO:CLRM:reading file data_1_1.csv\n",
      "INFO:CLRM:shape of X is (100,)\n",
      "INFO:CLRM:shape of Y is (100,)\n",
      "INFO:CLRM:Fitting linear model for filename data_1_1.csv\n"
     ]
    },
    {
     "name": "stdout",
     "output_type": "stream",
     "text": [
      "Optimization terminated successfully.\n",
      "         Current function value: 297.473471\n",
      "         Iterations: 6\n",
      "         Function evaluations: 284\n",
      "('MAP Estimate', {'a': array(1.0372171567210353), 'nu_interval_': array(-1.042206022987242), 'b': array(0.014970736429343), 'w_interval_': array(-3.6578928136572246)})\n"
     ]
    },
    {
     "name": "stderr",
     "output_type": "stream",
     "text": [
      "100%|██████████| 10000/10000 [00:04<00:00, 2218.85it/s]\n",
      "INFO:CLRM:Time taken = 12.7257819176\n",
      "INFO:CLRM:reading file data_1_2.csv\n",
      "INFO:CLRM:shape of X is (100,)\n",
      "INFO:CLRM:shape of Y is (100,)\n",
      "INFO:CLRM:Fitting linear model for filename data_1_2.csv\n"
     ]
    },
    {
     "name": "stdout",
     "output_type": "stream",
     "text": [
      "Optimization terminated successfully.\n",
      "         Current function value: 391.462842\n",
      "         Iterations: 6\n",
      "         Function evaluations: 300\n",
      "('MAP Estimate', {'a': array(1.2417454092760583), 'nu_interval_': array(-1.653476156908777), 'b': array(-0.4634358881199373), 'w_interval_': array(-4.17271092000646)})\n"
     ]
    },
    {
     "name": "stderr",
     "output_type": "stream",
     "text": [
      "100%|██████████| 10000/10000 [00:04<00:00, 2454.44it/s]\n",
      "INFO:CLRM:Time taken = 9.41733503342\n",
      "INFO:CLRM:reading file data_1_3.csv\n",
      "INFO:CLRM:shape of X is (50,)\n",
      "INFO:CLRM:shape of Y is (50,)\n",
      "INFO:CLRM:Fitting linear model for filename data_1_3.csv\n"
     ]
    },
    {
     "name": "stdout",
     "output_type": "stream",
     "text": [
      "Optimization terminated successfully.\n",
      "         Current function value: 213.342269\n",
      "         Iterations: 7\n",
      "         Function evaluations: 335\n",
      "('MAP Estimate', {'a': array(-0.6689536366950428), 'nu_interval_': array(-1.4445598278448208), 'b': array(0.02699208689549034), 'w_interval_': array(-4.189642195968285)})\n"
     ]
    },
    {
     "name": "stderr",
     "output_type": "stream",
     "text": [
      "100%|██████████| 10000/10000 [00:03<00:00, 2786.03it/s]\n",
      "INFO:CLRM:Time taken = 9.0346660614\n",
      "INFO:CLRM:reading file data_1_4.csv\n",
      "INFO:CLRM:shape of X is (50,)\n",
      "INFO:CLRM:shape of Y is (50,)\n",
      "INFO:CLRM:Fitting linear model for filename data_1_4.csv\n"
     ]
    },
    {
     "name": "stdout",
     "output_type": "stream",
     "text": [
      "Optimization terminated successfully.\n",
      "         Current function value: 162.740446\n",
      "         Iterations: 8\n",
      "         Function evaluations: 380\n",
      "('MAP Estimate', {'a': array(0.9952969412418115), 'nu_interval_': array(0.131597127532673), 'b': array(0.533700874803425), 'w_interval_': array(-3.956320347676987)})\n"
     ]
    },
    {
     "name": "stderr",
     "output_type": "stream",
     "text": [
      "100%|██████████| 10000/10000 [00:03<00:00, 2845.78it/s]\n",
      "INFO:CLRM:Time taken = 8.61424183846\n",
      "INFO:CLRM:reading file data_1_5.csv\n",
      "INFO:CLRM:shape of X is (50,)\n",
      "INFO:CLRM:shape of Y is (50,)\n",
      "INFO:CLRM:Fitting linear model for filename data_1_5.csv\n"
     ]
    },
    {
     "name": "stdout",
     "output_type": "stream",
     "text": [
      "Optimization terminated successfully.\n",
      "         Current function value: 190.998811\n",
      "         Iterations: 7\n",
      "         Function evaluations: 353\n",
      "('MAP Estimate', {'a': array(-0.9751697962392275), 'nu_interval_': array(-1.342482833871495), 'b': array(-0.2369260511982848), 'w_interval_': array(-3.864962496887643)})\n"
     ]
    },
    {
     "name": "stderr",
     "output_type": "stream",
     "text": [
      "100%|██████████| 10000/10000 [00:03<00:00, 3121.46it/s]\n",
      "INFO:CLRM:Time taken = 8.20214009285\n"
     ]
    }
   ],
   "source": [
    "results_square = []\n",
    "for f in files:\n",
    "    clrm = CLRM(f, lambda w, x: w/np.pow(x, 2))\n",
    "    clrm.fit_linear_model(10000)\n",
    "    results_square.append(clrm)"
   ]
  },
  {
   "cell_type": "markdown",
   "metadata": {},
   "source": [
    "## Posterior Predictive Check"
   ]
  },
  {
   "cell_type": "code",
   "execution_count": 73,
   "metadata": {
    "collapsed": false
   },
   "outputs": [],
   "source": [
    "results_stats = {'$x^2$': {}, '$1$': {}}\n",
    "\n",
    "for item in results_constant:\n",
    "    results_stats['$1$'][item.file_name] = {'rmsd': item.rmsd()}    \n",
    "\n",
    "for item in results_square:\n",
    "    results_stats['$x^2$'][item.file_name] = {'rmsd': item.rmsd()}\n",
    "\n",
    "metrics = []\n",
    "for k, v in results_stats.items():\n",
    "    for f, stat in v.items():\n",
    "            metrics.append({'model': k, 'file_name': f, 'rmsd': stat['rmsd']})    \n",
    "\n",
    "for m in metrics:\n",
    "    if m['file_name'] in ['data_1_1.csv', 'data_1_2.csv']:\n",
    "        m['ct'] = 100\n",
    "    else:\n",
    "        m['ct'] = 50"
   ]
  },
  {
   "cell_type": "code",
   "execution_count": 72,
   "metadata": {
    "collapsed": false
   },
   "outputs": [
    {
     "name": "stderr",
     "output_type": "stream",
     "text": [
      "/Users/shashank/.virtualenvs/vvf/lib/python2.7/site-packages/ipykernel/__main__.py:1: FutureWarning: sort(columns=....) is deprecated, use sort_values(by=.....)\n",
      "  if __name__ == '__main__':\n"
     ]
    },
    {
     "data": {
      "text/plain": [
       "<seaborn.axisgrid.FacetGrid at 0x143bca990>"
      ]
     },
     "execution_count": 72,
     "metadata": {},
     "output_type": "execute_result"
    },
    {
     "data": {
      "image/png": "[encoded data removed]",
      "text/plain": [
       "<matplotlib.figure.Figure at 0x143bca310>"
      ]
     },
     "metadata": {},
     "output_type": "display_data"
    }
   ],
   "source": [
    "df = pd.DataFrame(metrics).sort('file_name')\n",
    "\n",
    "import seaborn as sns\n",
    "sns.set(style=\"whitegrid\")\n",
    "\n",
    "\n",
    "# Draw a nested barplot to show survival for class and sex\n",
    "g = sns.factorplot(x=\"file_name\", y=\"rmsd\", hue=\"model\", data=df,\n",
    "                   size=6, kind=\"bar\", palette=\"muted\")\n",
    "g.despine(left=True)\n",
    "g.set_ylabels(\"rmsd\")            "
   ]
  },
  {
   "cell_type": "markdown",
   "metadata": {},
   "source": [
    "## Results"
   ]
  },
  {
   "cell_type": "code",
   "execution_count": 62,
   "metadata": {
    "collapsed": false
   },
   "outputs": [
    {
     "data": {
      "text/html": [
       "<div>\n",
       "<table border=\"1\" class=\"dataframe\">\n",
       "  <thead>\n",
       "    <tr style=\"text-align: right;\">\n",
       "      <th></th>\n",
       "      <th>a</th>\n",
       "      <th>b</th>\n",
       "      <th>ct</th>\n",
       "      <th>file_name</th>\n",
       "      <th>nu</th>\n",
       "      <th>nu_interval_</th>\n",
       "      <th>w</th>\n",
       "      <th>w_interval_</th>\n",
       "    </tr>\n",
       "  </thead>\n",
       "  <tbody>\n",
       "    <tr>\n",
       "      <th>0</th>\n",
       "      <td>1.033639</td>\n",
       "      <td>0.005087</td>\n",
       "      <td>100</td>\n",
       "      <td>data_1_1.csv</td>\n",
       "      <td>4.088898</td>\n",
       "      <td>-0.722434</td>\n",
       "      <td>0.243841</td>\n",
       "      <td>-3.729304</td>\n",
       "    </tr>\n",
       "    <tr>\n",
       "      <th>1</th>\n",
       "      <td>1.250717</td>\n",
       "      <td>-0.554186</td>\n",
       "      <td>100</td>\n",
       "      <td>data_1_2.csv</td>\n",
       "      <td>2.656124</td>\n",
       "      <td>-1.679034</td>\n",
       "      <td>0.157571</td>\n",
       "      <td>-4.188483</td>\n",
       "    </tr>\n",
       "    <tr>\n",
       "      <th>2</th>\n",
       "      <td>-0.665783</td>\n",
       "      <td>0.135664</td>\n",
       "      <td>50</td>\n",
       "      <td>data_1_3.csv</td>\n",
       "      <td>2.971437</td>\n",
       "      <td>-1.505920</td>\n",
       "      <td>0.159151</td>\n",
       "      <td>-4.211145</td>\n",
       "    </tr>\n",
       "    <tr>\n",
       "      <th>3</th>\n",
       "      <td>1.002800</td>\n",
       "      <td>0.522109</td>\n",
       "      <td>50</td>\n",
       "      <td>data_1_4.csv</td>\n",
       "      <td>6.328168</td>\n",
       "      <td>0.580047</td>\n",
       "      <td>0.187357</td>\n",
       "      <td>-3.996737</td>\n",
       "    </tr>\n",
       "    <tr>\n",
       "      <th>4</th>\n",
       "      <td>-0.964518</td>\n",
       "      <td>-0.087334</td>\n",
       "      <td>50</td>\n",
       "      <td>data_1_5.csv</td>\n",
       "      <td>3.781542</td>\n",
       "      <td>-1.002638</td>\n",
       "      <td>0.200360</td>\n",
       "      <td>-3.983863</td>\n",
       "    </tr>\n",
       "  </tbody>\n",
       "</table>\n",
       "</div>"
      ],
      "text/plain": [
       "          a         b   ct     file_name        nu  nu_interval_         w  \\\n",
       "0  1.033639  0.005087  100  data_1_1.csv  4.088898     -0.722434  0.243841   \n",
       "1  1.250717 -0.554186  100  data_1_2.csv  2.656124     -1.679034  0.157571   \n",
       "2 -0.665783  0.135664   50  data_1_3.csv  2.971437     -1.505920  0.159151   \n",
       "3  1.002800  0.522109   50  data_1_4.csv  6.328168      0.580047  0.187357   \n",
       "4 -0.964518 -0.087334   50  data_1_5.csv  3.781542     -1.002638  0.200360   \n",
       "\n",
       "   w_interval_  \n",
       "0    -3.729304  \n",
       "1    -4.188483  \n",
       "2    -4.211145  \n",
       "3    -3.996737  \n",
       "4    -3.983863  "
      ]
     },
     "execution_count": 62,
     "metadata": {},
     "output_type": "execute_result"
    }
   ],
   "source": [
    "results = []\n",
    "for item in results_square:\n",
    "    result = {k: np.mean([e[k] for e in item.trace]) for k in item.trace[0].keys()}\n",
    "    result['file_name'] = item.file_name\n",
    "    result['ct'] = 100 if item.file_name in ['data_1_1.csv', 'data_1_2.csv'] else 50\n",
    "    results.append(result)\n",
    "\n",
    "df_results = pd.DataFrame(results)\n",
    "df_results.head(10)"
   ]
  }
 ],
 "metadata": {
  "kernelspec": {
   "display_name": "Python 2",
   "language": "python",
   "name": "python2"
  },
  "language_info": {
   "codemirror_mode": {
    "name": "ipython",
    "version": 2
   },
   "file_extension": ".py",
   "mimetype": "text/x-python",
   "name": "python",
   "nbconvert_exporter": "python",
   "pygments_lexer": "ipython2",
   "version": "2.7.12"
  }
 },
 "nbformat": 4,
 "nbformat_minor": 1
}
